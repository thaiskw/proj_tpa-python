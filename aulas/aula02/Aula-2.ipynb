{
 "cells": [
  {
   "cell_type": "markdown",
   "metadata": {},
   "source": [
    "# Aula 02 - Se Composto e Introdução a Estruturas de Repetição"
   ]
  },
  {
   "cell_type": "markdown",
   "metadata": {},
   "source": [
    "## Parte 1 - Se Composto"
   ]
  },
  {
   "cell_type": "markdown",
   "metadata": {},
   "source": [
    "### Porta AND"
   ]
  },
  {
   "cell_type": "code",
   "execution_count": 160,
   "metadata": {},
   "outputs": [
    {
     "name": "stdout",
     "output_type": "stream",
     "text": [
      "Reprovado\n"
     ]
    }
   ],
   "source": [
    "idade = 16\n",
    "carteira = 50000\n",
    "\n",
    "if(idade>=18 and carteira>=50000):\n",
    "    print(\"Aprovado\")\n",
    "else:\n",
    "    print(\"Reprovado\")"
   ]
  },
  {
   "cell_type": "markdown",
   "metadata": {},
   "source": [
    "### Porta OR"
   ]
  },
  {
   "cell_type": "code",
   "execution_count": 161,
   "metadata": {},
   "outputs": [
    {
     "name": "stdout",
     "output_type": "stream",
     "text": [
      "Aprovado\n"
     ]
    }
   ],
   "source": [
    "idade = 16\n",
    "carteira = 50000\n",
    "\n",
    "if(idade>=18 or carteira>=50000):\n",
    "    print(\"Aprovado\")\n",
    "else:\n",
    "    print(\"Reprovado\")"
   ]
  },
  {
   "cell_type": "markdown",
   "metadata": {},
   "source": [
    "## Parte 2 - Introdução a Laços de Repetição"
   ]
  },
  {
   "cell_type": "markdown",
   "metadata": {},
   "source": [
    "### Enquanto"
   ]
  },
  {
   "cell_type": "code",
   "execution_count": 162,
   "metadata": {},
   "outputs": [
    {
     "name": "stdout",
     "output_type": "stream",
     "text": [
      "0\n",
      "1\n",
      "2\n",
      "3\n",
      "4\n",
      "5\n",
      "6\n",
      "7\n",
      "8\n",
      "9\n",
      "10\n"
     ]
    }
   ],
   "source": [
    "x = 0\n",
    "while(x<=10):\n",
    "    print(x)\n",
    "    x = x + 1"
   ]
  },
  {
   "cell_type": "code",
   "execution_count": 163,
   "metadata": {},
   "outputs": [
    {
     "name": "stdout",
     "output_type": "stream",
     "text": [
      "10\n",
      "9\n",
      "8\n",
      "7\n",
      "6\n",
      "5\n",
      "4\n",
      "3\n",
      "2\n",
      "1\n",
      "0\n"
     ]
    }
   ],
   "source": [
    "x = 10\n",
    "while(x>=0):\n",
    "    print(x)\n",
    "    x = x - 1\n"
   ]
  },
  {
   "cell_type": "markdown",
   "metadata": {},
   "source": [
    "### Listas"
   ]
  },
  {
   "cell_type": "code",
   "execution_count": 164,
   "metadata": {},
   "outputs": [
    {
     "name": "stdout",
     "output_type": "stream",
     "text": [
      "['Gustavo', 'Lucas', 'Pedro']\n",
      "Gustavo\n"
     ]
    }
   ],
   "source": [
    "alunos = [\"Gustavo\",\"Lucas\",\"Pedro\"]\n",
    "print(alunos)\n",
    "print(alunos[0])"
   ]
  },
  {
   "cell_type": "markdown",
   "metadata": {},
   "source": [
    "### While com listas"
   ]
  },
  {
   "cell_type": "code",
   "execution_count": 165,
   "metadata": {},
   "outputs": [
    {
     "name": "stdout",
     "output_type": "stream",
     "text": [
      "Gustavo\n",
      "Lucas\n",
      "Pedro\n"
     ]
    }
   ],
   "source": [
    "x = 0\n",
    "while(x<=2):\n",
    "    print(alunos[x])\n",
    "    x = x + 1"
   ]
  },
  {
   "cell_type": "code",
   "execution_count": 166,
   "metadata": {},
   "outputs": [
    {
     "name": "stdout",
     "output_type": "stream",
     "text": [
      "Pedro\n",
      "Lucas\n",
      "Gustavo\n"
     ]
    }
   ],
   "source": [
    "x = 2\n",
    "while(x>=0):\n",
    "    print(alunos[x])\n",
    "    x = x - 1"
   ]
  },
  {
   "cell_type": "markdown",
   "metadata": {},
   "source": [
    "# Parte 3 - Introdução ao Laço For"
   ]
  },
  {
   "cell_type": "markdown",
   "metadata": {},
   "source": [
    "### Percorrer uma lista"
   ]
  },
  {
   "cell_type": "code",
   "execution_count": 167,
   "metadata": {},
   "outputs": [
    {
     "name": "stdout",
     "output_type": "stream",
     "text": [
      "Gustavo\n",
      "Lucas\n",
      "Pedro\n"
     ]
    }
   ],
   "source": [
    "for x in alunos:\n",
    "    print(x)"
   ]
  },
  {
   "cell_type": "markdown",
   "metadata": {},
   "source": [
    "### Contagem até 10\n"
   ]
  },
  {
   "cell_type": "code",
   "execution_count": 168,
   "metadata": {},
   "outputs": [
    {
     "name": "stdout",
     "output_type": "stream",
     "text": [
      "0\n",
      "1\n",
      "2\n",
      "3\n",
      "4\n",
      "5\n",
      "6\n",
      "7\n",
      "8\n",
      "9\n"
     ]
    }
   ],
   "source": [
    "for x in range(10):\n",
    "    print(x)"
   ]
  },
  {
   "cell_type": "markdown",
   "metadata": {},
   "source": [
    "# Exercício\n",
    "### Liste 10 frutas ou legumes que Pedrinho fez no verdurão.Utilize while ou for, deixando-os da seguinte forma:"
   ]
  },
  {
   "cell_type": "markdown",
   "metadata": {},
   "source": [
    "<ul>\n",
    "<li> 1 - abacaxi</li>\n",
    "<li>2 - tomate</li>\n",
    "<li>3 - morango</li>\n",
    "</ul>"
   ]
  },
  {
   "cell_type": "code",
   "execution_count": 169,
   "metadata": {},
   "outputs": [
    {
     "name": "stdout",
     "output_type": "stream",
     "text": [
      "1 - Morango\n",
      "2 - Maçã\n",
      "3 - Banana\n",
      "4 - Alface\n",
      "5 - Tomate\n",
      "6 - Uva\n",
      "7 - mexerica\n",
      "8 - laranja\n",
      "9 - batata\n",
      "10 - Carambola\n"
     ]
    }
   ],
   "source": [
    "lista = [\"1 - Morango\",\"2 - Maçã\",\"3 - Banana\",\"4 - Alface\",\"5 - Tomate\",\"6 - Uva\",\"7 - mexerica\",\"8 - laranja\",\"9 - batata\",\"10 - Carambola\"]\n",
    "x = 0\n",
    "while(x<=9):\n",
    "    print(lista[x])\n",
    "    x = x + 1"
   ]
  },
  {
   "cell_type": "code",
   "execution_count": 170,
   "metadata": {},
   "outputs": [
    {
     "name": "stdout",
     "output_type": "stream",
     "text": [
      "1 - Morango\n",
      "2 - Maçã\n",
      "3 - Banana\n",
      "4 - Alface\n",
      "5 - Tomate\n",
      "6 - Uva\n",
      "7 - mexerica\n",
      "8 - laranja\n",
      "9 - batata\n",
      "10 - Carambola\n"
     ]
    }
   ],
   "source": [
    "for x in lista:\n",
    "    print(x)"
   ]
  }
 ],
 "metadata": {
  "kernelspec": {
   "display_name": "Python 3",
   "language": "python",
   "name": "python3"
  },
  "language_info": {
   "codemirror_mode": {
    "name": "ipython",
    "version": 3
   },
   "file_extension": ".py",
   "mimetype": "text/x-python",
   "name": "python",
   "nbconvert_exporter": "python",
   "pygments_lexer": "ipython3",
   "version": "3.12.2"
  }
 },
 "nbformat": 4,
 "nbformat_minor": 2
}
