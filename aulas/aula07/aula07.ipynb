{
 "cells": [
  {
   "cell_type": "markdown",
   "metadata": {},
   "source": [
    "# Aula 07 - Introdução a Estrutura de dados "
   ]
  },
  {
   "cell_type": "markdown",
   "metadata": {},
   "source": [
    "## Fila (FIFO)"
   ]
  },
  {
   "cell_type": "code",
   "execution_count": 1,
   "metadata": {},
   "outputs": [],
   "source": [
    "class Fila:\n",
    "    def __init__(self):\n",
    "        self.fila =[]\n",
    "    \n",
    "    def enfileirar(self, item):\n",
    "        self.fila.append(item)\n",
    "        print(f\"{item} chegou no caixa\")\n",
    "\n",
    "    def vazio(self):\n",
    "        return len(self.fila) == 0\n",
    "    \n",
    "    def desinfileirar(self):\n",
    "        if not self.vazio():\n",
    "            item = self.fila.pop(0)\n",
    "            print(f\"{item} foi atendido no caixa\")\n",
    "            return item\n",
    "        else:\n",
    "            print(\"A caixa está vazio\")\n",
    "            return None\n",
    "        \n",
    "    def tamanho(self):\n",
    "        if len(self.fila)==0:\n",
    "            print(\"O caixa está livre\")\n",
    "        else:\n",
    "            print(f\"Tem {len(self.fila)} pessoas na fila\")"
   ]
  },
  {
   "cell_type": "markdown",
   "metadata": {},
   "source": [
    "## Atividade 01"
   ]
  },
  {
   "cell_type": "markdown",
   "metadata": {},
   "source": [
    "> Joãozinho está no ercado entre Vó Maria e Caique que chegou logo atrás para ir ao caixa.Tendo como fila a estrutura de dados. Adicione os três a essa fila nessa ordem e atenda Vó Maria, depois mostre o tamanho da dela"
   ]
  },
  {
   "cell_type": "code",
   "execution_count": 2,
   "metadata": {},
   "outputs": [
    {
     "name": "stdout",
     "output_type": "stream",
     "text": [
      "Vó Marcia chegou no caixa\n",
      "Caique chegou no caixa\n",
      "Joãozinho chegou no caixa\n",
      "Vó Marcia foi atendido no caixa\n",
      "Tem 2 pessoas na fila\n"
     ]
    }
   ],
   "source": [
    "fila = Fila()\n",
    "fila.enfileirar(\"Vó Marcia\")\n",
    "fila.enfileirar(\"Caique\")\n",
    "fila.enfileirar(\"Joãozinho\")\n",
    "fila.desinfileirar()\n",
    "fila.tamanho()"
   ]
  },
  {
   "cell_type": "code",
   "execution_count": 3,
   "metadata": {},
   "outputs": [
    {
     "name": "stdout",
     "output_type": "stream",
     "text": [
      "Caique foi atendido no caixa\n",
      "Joãozinho foi atendido no caixa\n",
      "O caixa está livre\n"
     ]
    }
   ],
   "source": [
    "fila.desinfileirar()\n",
    "fila.desinfileirar()\n",
    "fila.tamanho()"
   ]
  },
  {
   "cell_type": "markdown",
   "metadata": {},
   "source": [
    "## FIFO utilizando Colletions deque"
   ]
  },
  {
   "cell_type": "code",
   "execution_count": 4,
   "metadata": {},
   "outputs": [],
   "source": [
    "from collections import deque\n",
    "\n",
    "class Farmacia:\n",
    "    def __init__(self):\n",
    "        self.farmacia = deque()\n",
    "\n",
    "    def aguardar(self, nome):\n",
    "        self.farmacia.append(nome)\n",
    "        print(f\"{nome} está na fila\")\n",
    "\n",
    "    def vazio(self):\n",
    "        return len(self.farmacia) == 0\n",
    "    \n",
    "    def atender(self):\n",
    "        if not self.vazio():\n",
    "            nome = self.farmacia.popleft()\n",
    "            print(f\"{nome} foi atendido\")\n",
    "        else:\n",
    "            print(\"O balcão está livre\")\n",
    "\n",
    "    def tamanho(self):\n",
    "        if len(self.farmacia)==0:\n",
    "            print(\"A fila está vazia\")\n",
    "        else:\n",
    "            print(f\"Tem {len(self.farmacia)} pessoas na fila\")"
   ]
  },
  {
   "cell_type": "markdown",
   "metadata": {},
   "source": [
    "### Atividade 02 - Atendimento da Farmacia"
   ]
  },
  {
   "cell_type": "markdown",
   "metadata": {},
   "source": [
    "> Ao abrir a farmácia pela manhã a balconista recebe 5 clientes. 3 deles são atendidos e vão ao caixa. Os demais estão aguardando para ser atendidas. Inclua o nome das 5 pessoas, atenda as 3 e depois mostre o tamanho da fila."
   ]
  },
  {
   "cell_type": "code",
   "execution_count": 5,
   "metadata": {},
   "outputs": [
    {
     "name": "stdout",
     "output_type": "stream",
     "text": [
      "Mônica está na fila\n",
      "Jhon está na fila\n",
      "Matias está na fila\n",
      "Filipe está na fila\n",
      "Lino está na fila\n",
      "Mônica foi atendido\n",
      "Jhon foi atendido\n",
      "Matias foi atendido\n"
     ]
    }
   ],
   "source": [
    "farmacia = Farmacia()\n",
    "farmacia.aguardar(\"Mônica\")\n",
    "farmacia.aguardar(\"Jhon\")\n",
    "farmacia.aguardar(\"Matias\")\n",
    "farmacia.aguardar(\"Filipe\")\n",
    "farmacia.aguardar(\"Lino\")\n",
    "farmacia.atender()\n",
    "farmacia.atender()\n",
    "farmacia.atender()"
   ]
  },
  {
   "cell_type": "markdown",
   "metadata": {},
   "source": [
    "## Pilha (LIFO)"
   ]
  },
  {
   "cell_type": "code",
   "execution_count": 6,
   "metadata": {},
   "outputs": [],
   "source": [
    "class Editor:\n",
    "    def __init__(self):\n",
    "        self.texto = \"\"\n",
    "        self.historico = []\n",
    "\n",
    "    def escrever(self, texto):\n",
    "        self.historico.append(self.texto)\n",
    "        self.text += texto\n",
    "\n",
    "    def desfazer(self):\n",
    "        if self.historico:\n",
    "            self.texto = self.historico.pop()\n",
    "        else:\n",
    "            self.texto = \"\"\n",
    "\n",
    "    def visualizar(self):\n",
    "        print(self.texto)\n",
    "        "
   ]
  },
  {
   "cell_type": "markdown",
   "metadata": {},
   "source": [
    "## Atividade 03"
   ]
  },
  {
   "cell_type": "markdown",
   "metadata": {},
   "source": [
    "> Em um editor Yago escreve primeiro \"Olá \", depois \"mundo! \" e por ultimo \"Por: \" e \"Yago.\"; Depois disso ele exibiu o texto editado. Logo após decidiu remover \"Por: Yago\". Faça um algoritmo que realize o passo-a passo de Yago e visualize o resultado."
   ]
  },
  {
   "cell_type": "code",
   "execution_count": 7,
   "metadata": {},
   "outputs": [
    {
     "name": "stdout",
     "output_type": "stream",
     "text": [
      "Texto editado: Olá mundo! Por: Yago.\n"
     ]
    }
   ],
   "source": [
    "texto = \"\"\n",
    "texto += \"Olá \"\n",
    "texto += \"mundo! \"\n",
    "texto += \"Por: \"\n",
    "texto += \"Yago.\"\n",
    "print(\"Texto editado:\", texto)"
   ]
  },
  {
   "cell_type": "code",
   "execution_count": 8,
   "metadata": {},
   "outputs": [
    {
     "name": "stdout",
     "output_type": "stream",
     "text": [
      "Texto após remoção: Olá mundo! \n"
     ]
    }
   ],
   "source": [
    "historico = texto.find(\"Por: \")\n",
    "if historico != -1:\n",
    "    texto = texto[:historico]\n",
    "print(\"Texto após remoção:\", texto)"
   ]
  }
 ],
 "metadata": {
  "kernelspec": {
   "display_name": "Python 3",
   "language": "python",
   "name": "python3"
  },
  "language_info": {
   "codemirror_mode": {
    "name": "ipython",
    "version": 3
   },
   "file_extension": ".py",
   "mimetype": "text/x-python",
   "name": "python",
   "nbconvert_exporter": "python",
   "pygments_lexer": "ipython3",
   "version": "3.11.9"
  }
 },
 "nbformat": 4,
 "nbformat_minor": 2
}
